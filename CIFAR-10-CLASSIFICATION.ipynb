{
 "cells": [
  {
   "cell_type": "markdown",
   "metadata": {},
   "source": [
    "CIFAR-10-CLASSIFCATION MODEL\n",
    "---\n",
    "Jack Zheng"
   ]
  },
  {
   "cell_type": "markdown",
   "metadata": {},
   "source": [
    "In this Notebook I will try to create a classification model for the cifar-10 dataset using tensorflow"
   ]
  },
  {
   "cell_type": "code",
   "execution_count": 1,
   "metadata": {},
   "outputs": [],
   "source": [
    "import tensorflow as tf\n",
    "import numpy as np\n",
    "import matplotlib.pyplot as plt"
   ]
  },
  {
   "cell_type": "markdown",
   "metadata": {},
   "source": [
    "This unpickle function was provided on the website to open the file:"
   ]
  },
  {
   "cell_type": "code",
   "execution_count": 2,
   "metadata": {},
   "outputs": [],
   "source": [
    "def unpickle(file): # - http://www.cs.toronto.edu/~kriz/cifar.html - this will open the file and return a dictionary \n",
    "    import pickle\n",
    "    with open(file, 'rb') as fo:\n",
    "        dict = pickle.load(fo, encoding='bytes')\n",
    "    return dict"
   ]
  },
  {
   "cell_type": "code",
   "execution_count": 3,
   "metadata": {},
   "outputs": [],
   "source": [
    "dataset = unpickle(\"cifar-10-batches-py\\data_batch_1\") # loading data_batch_1 into the variable dataset\n",
    "metadata = unpickle(r\"cifar-10-batches-py\\batches.meta\") # These are the label names"
   ]
  },
  {
   "cell_type": "markdown",
   "metadata": {},
   "source": [
    "Instead of importing the dataset directly, I decided to install it as a zip from online, to practice loading and wrangling the data"
   ]
  },
  {
   "cell_type": "markdown",
   "metadata": {},
   "source": [
    "The website source of the dataset states:\n",
    "\n",
    " **data** -- a 10000x3072 numpy array of uint8s. Each row of the array stores a 32x32 colour image. The first 1024 entries contain the red channel values, the next 1024 the green, and the final 1024 the blue. The image is stored in row-major order, so that the first 32 entries of the array are the red channel values of the first row of the image.\n",
    "\n",
    "**labels** -- a list of 10000 numbers in the range 0-9. The number at index i indicates the label of the ith image in the array data.\n"
   ]
  },
  {
   "cell_type": "code",
   "execution_count": 4,
   "metadata": {},
   "outputs": [
    {
     "name": "stdout",
     "output_type": "stream",
     "text": [
      "dict_keys([b'batch_label', b'labels', b'data', b'filenames']) dict_keys([b'num_cases_per_batch', b'label_names', b'num_vis'])\n"
     ]
    }
   ],
   "source": [
    "print(dataset.keys(),\n",
    "metadata.keys())"
   ]
  },
  {
   "cell_type": "markdown",
   "metadata": {},
   "source": [
    "We can see the the relevant items in the dataset and metadata dictionary"
   ]
  },
  {
   "cell_type": "code",
   "execution_count": 5,
   "metadata": {},
   "outputs": [],
   "source": [
    "labels = dataset[b'labels']\n",
    "data = dataset[b'data']"
   ]
  },
  {
   "cell_type": "code",
   "execution_count": 6,
   "metadata": {},
   "outputs": [
    {
     "data": {
      "text/plain": [
       "10000"
      ]
     },
     "execution_count": 6,
     "metadata": {},
     "output_type": "execute_result"
    }
   ],
   "source": [
    "len(data)\n",
    "len(labels)"
   ]
  },
  {
   "cell_type": "markdown",
   "metadata": {},
   "source": [
    "As you can see, there are 10000 images + labels in our dataset. I will split the dataset in 80-20 training-testing into the following variables:"
   ]
  },
  {
   "cell_type": "code",
   "execution_count": 55,
   "metadata": {},
   "outputs": [],
   "source": [
    "X_train = data[:8000]\n",
    "X_test = data[8000:10000]\n",
    "\n",
    "y_train = labels[:8000]\n",
    "y_test = labels[8000:10000]"
   ]
  },
  {
   "cell_type": "code",
   "execution_count": 56,
   "metadata": {},
   "outputs": [
    {
     "data": {
      "text/plain": [
       "dict_keys([b'num_cases_per_batch', b'label_names', b'num_vis'])"
      ]
     },
     "execution_count": 56,
     "metadata": {},
     "output_type": "execute_result"
    }
   ],
   "source": [
    "metadata.keys()"
   ]
  },
  {
   "cell_type": "code",
   "execution_count": 57,
   "metadata": {},
   "outputs": [
    {
     "data": {
      "text/plain": [
       "[b'airplane',\n",
       " b'automobile',\n",
       " b'bird',\n",
       " b'cat',\n",
       " b'deer',\n",
       " b'dog',\n",
       " b'frog',\n",
       " b'horse',\n",
       " b'ship',\n",
       " b'truck']"
      ]
     },
     "execution_count": 57,
     "metadata": {},
     "output_type": "execute_result"
    }
   ],
   "source": [
    "keys = metadata[b'label_names']\n",
    "keys"
   ]
  },
  {
   "cell_type": "code",
   "execution_count": 58,
   "metadata": {},
   "outputs": [
    {
     "data": {
      "text/plain": [
       "6"
      ]
     },
     "execution_count": 58,
     "metadata": {},
     "output_type": "execute_result"
    }
   ],
   "source": [
    "y_train[0]\n",
    "# plt.imshow(X_train[0]) # This line throws a TypeError: Invalid shape (3072,) for image data. I realized, this is actually a 32 x 32 size image with RGB, however since there is nothing delimiting the rows\n",
    "# So it just shows as 3072 - The images seem to have flattened, meaning I would need to \"unflattern\" them if I want to view them\n",
    "# https://stackoverflow.com/questions/36967920/numpy-flatten-rgb-image-array \n"
   ]
  },
  {
   "cell_type": "code",
   "execution_count": 59,
   "metadata": {},
   "outputs": [],
   "source": [
    "test = X_train[0]"
   ]
  },
  {
   "cell_type": "code",
   "execution_count": 60,
   "metadata": {},
   "outputs": [
    {
     "data": {
      "text/plain": [
       "<matplotlib.image.AxesImage at 0x1720aa2c850>"
      ]
     },
     "execution_count": 60,
     "metadata": {},
     "output_type": "execute_result"
    },
    {
     "data": {
      "image/png": "[encoded data removed]",
      "text/plain": [
       "<Figure size 432x288 with 1 Axes>"
      ]
     },
     "metadata": {
      "needs_background": "light"
     },
     "output_type": "display_data"
    }
   ],
   "source": [
    "reshaped_image = test.reshape(32,32,3) # 32 x 32 (image size) with the 3 denoting the RGB values\n",
    "\n",
    "plt.imshow(reshaped_image)\n"
   ]
  },
  {
   "cell_type": "markdown",
   "metadata": {},
   "source": [
    "I'm going to have to reformat the array If I want to view the image, I will create a function that will allow me to view the image without changing the data structure of the original image"
   ]
  },
  {
   "cell_type": "code",
   "execution_count": 61,
   "metadata": {},
   "outputs": [],
   "source": [
    "def show_image(index = 0, feature_data = X_train, label_data = y_train, keys = keys):\n",
    "        \"\"\"\n",
    "        input feature, and label data, and the keys dictionary, optional param index\n",
    "\n",
    "        displays the image + label\n",
    "        \"\"\"\n",
    "        # The images are stored as a 3072 element vector, I need to reshape this into a tensor \n",
    "        # The image source states \"The first 1024 bytes are the red channel values, the next 1024 the green,\n",
    "        # and the final 1024 the blue. The values are stored in row-major order, so the first 32 bytes are the red channel values of the first row of the image.\"\n",
    "        res = feature_data[index].reshape(3,32,32) \n",
    "        #matplotlib reads the RGB channels last in the matrix. So I'm rearranging the tensor accordingly\n",
    "        res = np.transpose(res, axes=[1, 2, 0]) \n",
    "\n",
    "        plt.imshow(res)\n",
    "        plt.title(keys[label_data[index]].decode(\"utf-8\")) # adds the label; the decode removes the b and '' from the label for a pleasant viewing experience\n",
    "        plt.axis('off') # I don't want the axis to show either\n",
    "        plt.show()\n",
    "\n",
    "\n"
   ]
  },
  {
   "cell_type": "code",
   "execution_count": 62,
   "metadata": {},
   "outputs": [
    {
     "data": {
      "image/png": "[encoded data removed]",
      "text/plain": [
       "<Figure size 432x288 with 1 Axes>"
      ]
     },
     "metadata": {
      "needs_background": "light"
     },
     "output_type": "display_data"
    }
   ],
   "source": [
    "show_image()"
   ]
  },
  {
   "cell_type": "markdown",
   "metadata": {},
   "source": [
    "Beautiful!"
   ]
  },
  {
   "cell_type": "markdown",
   "metadata": {},
   "source": [
    "## Creating model using Tensorflow"
   ]
  },
  {
   "cell_type": "code",
   "execution_count": 63,
   "metadata": {},
   "outputs": [],
   "source": [
    "X_train, X_test = X_train / 255.0, X_test / 255.0\n",
    "# since the values range from 1 to 256, I want them to range from 0-1, i will divide by 255 to achieve this. \n",
    "# Sources state this allows the model to perform more efficiently\n"
   ]
  },
  {
   "cell_type": "code",
   "execution_count": 74,
   "metadata": {},
   "outputs": [],
   "source": [
    "model = tf.keras.Sequential([ # My model should have one input and one output tensor\n",
    "    tf.keras.layers.Dense(128, activation=tf.nn.relu, input_shape = (3072,)), # input shape of 3072\n",
    "    tf.keras.layers.Dense(128, activation=tf.nn.relu), # relu is a activation function, which determines the\n",
    "    # output shape of each node in the layer\n",
    "    tf.keras.layers.Dense(10)])\n",
    "\n",
    "# There is 2 layers with 2 nodes each, and a output layer with 10 nodes, each representing one of the \n",
    "# 10 possible categories    "
   ]
  },
  {
   "cell_type": "code",
   "execution_count": 75,
   "metadata": {},
   "outputs": [],
   "source": [
    "model.compile(loss = tf.keras.losses.SparseCategoricalCrossentropy(), optimizer = 'adam', metrics = ['accuracy'])"
   ]
  },
  {
   "cell_type": "code",
   "execution_count": 76,
   "metadata": {},
   "outputs": [
    {
     "name": "stdout",
     "output_type": "stream",
     "text": [
      "250/250 [==============================] - 2s 5ms/step - loss: 12.3088 - accuracy: 0.1006\n"
     ]
    },
    {
     "data": {
      "text/plain": [
       "<keras.callbacks.History at 0x1720ac380a0>"
      ]
     },
     "execution_count": 76,
     "metadata": {},
     "output_type": "execute_result"
    }
   ],
   "source": [
    "model.fit(X_train,y_train,batch_size=32)"
   ]
  },
  {
   "cell_type": "markdown",
   "metadata": {},
   "source": [
    "When trying to compile my model I run into this error\n",
    "\n",
    "    ValueError: Failed to find data adapter that can handle input: <class 'numpy.ndarray'>, (<class 'list'> containing values of types {\"<class 'int'>\"})\n",
    "\n",
    "I think I can fix this by converting my datasets for the y values into numpy arrays, since they were originally lists containing ints\n"
   ]
  },
  {
   "cell_type": "code",
   "execution_count": 77,
   "metadata": {},
   "outputs": [],
   "source": [
    "y_train = np.array(y_train)\n",
    "y_test = np.array(y_test)\n",
    "\n"
   ]
  },
  {
   "cell_type": "code",
   "execution_count": 78,
   "metadata": {},
   "outputs": [
    {
     "name": "stdout",
     "output_type": "stream",
     "text": [
      "Epoch 1/5\n",
      "250/250 [==============================] - 1s 5ms/step - loss: 12.3168 - accuracy: 0.1011\n",
      "Epoch 2/5\n",
      "250/250 [==============================] - 1s 5ms/step - loss: 12.3168 - accuracy: 0.1011\n",
      "Epoch 3/5\n",
      "250/250 [==============================] - 1s 5ms/step - loss: 12.3168 - accuracy: 0.1011\n",
      "Epoch 4/5\n",
      "250/250 [==============================] - 2s 6ms/step - loss: 12.3168 - accuracy: 0.1011\n",
      "Epoch 5/5\n",
      "250/250 [==============================] - 2s 6ms/step - loss: 12.3168 - accuracy: 0.1011\n"
     ]
    }
   ],
   "source": [
    "statistics_1 = model.fit(X_train,y_train,batch_size=32,epochs = 5)"
   ]
  },
  {
   "cell_type": "markdown",
   "metadata": {},
   "source": [
    "The loss and accuracy are not changing between epochs, There seems to be a problem"
   ]
  },
  {
   "cell_type": "code",
   "execution_count": 79,
   "metadata": {},
   "outputs": [
    {
     "name": "stdout",
     "output_type": "stream",
     "text": [
      "63/63 [==============================] - 0s 3ms/step - loss: 12.3813 - accuracy: 0.0960\n"
     ]
    }
   ],
   "source": [
    "val_loss, val_acc = model.evaluate(X_test, y_test)"
   ]
  },
  {
   "cell_type": "markdown",
   "metadata": {},
   "source": [
    "there is a accuracy of 0.09 when testing against the testing set.\n"
   ]
  },
  {
   "cell_type": "code",
   "execution_count": 81,
   "metadata": {},
   "outputs": [
    {
     "name": "stdout",
     "output_type": "stream",
     "text": [
      "63/63 [==============================] - 0s 3ms/step\n"
     ]
    }
   ],
   "source": [
    "predictions = model.predict(X_test)"
   ]
  },
  {
   "cell_type": "code",
   "execution_count": 83,
   "metadata": {},
   "outputs": [
    {
     "data": {
      "image/png": "[encoded data removed]",
      "text/plain": [
       "<Figure size 432x288 with 1 Axes>"
      ]
     },
     "metadata": {
      "needs_background": "light"
     },
     "output_type": "display_data"
    },
    {
     "data": {
      "text/plain": [
       "'horse'"
      ]
     },
     "execution_count": 83,
     "metadata": {},
     "output_type": "execute_result"
    }
   ],
   "source": [
    "image = X_test[0]\n",
    "show_image(0, X_test, y_test)\n",
    "keys[np.argmax(predictions[0])].decode(\"utf-8\")\n",
    "\n"
   ]
  },
  {
   "cell_type": "markdown",
   "metadata": {},
   "source": [
    "My model decided to predict this cat as a horse, it has a accuracy of 0.0990 and a high loss. My model guesses correctly 10 percent of the time, which should be expected with 10 outputs if you were to guess at random. My model doesn't work at all, it is completely broken. I believe there was something wrong with building the layers. I will try to focus on creating a working model."
   ]
  },
  {
   "cell_type": "markdown",
   "metadata": {},
   "source": [
    "## Optimization 2"
   ]
  },
  {
   "cell_type": "markdown",
   "metadata": {},
   "source": [
    "---"
   ]
  },
  {
   "cell_type": "markdown",
   "metadata": {},
   "source": [
    "Since data is already flattened, in the shape (3072,), I will not need to flatten the data. I will creating a model with the provided optimiser and loss functions."
   ]
  },
  {
   "cell_type": "code",
   "execution_count": 87,
   "metadata": {},
   "outputs": [],
   "source": [
    "from tensorflow import keras "
   ]
  },
  {
   "cell_type": "code",
   "execution_count": 88,
   "metadata": {},
   "outputs": [],
   "source": [
    "model = keras.Sequential([\n",
    "    keras.layers.Dense(128, activation = 'relu'), # 128 neurons\n",
    "    keras.layers.Dense(128, activation = 'relu'),\n",
    "    keras.layers.Dense(128, activation = 'relu'),\n",
    "    keras.layers.Dense(10, activation = 'softmax') # Since there are 10 output classifications\n",
    "    ])"
   ]
  },
  {
   "cell_type": "code",
   "execution_count": 90,
   "metadata": {},
   "outputs": [
    {
     "name": "stdout",
     "output_type": "stream",
     "text": [
      "Epoch 1/30\n",
      "250/250 [==============================] - 2s 6ms/step - loss: 1.0139 - accuracy: 0.6294\n",
      "Epoch 2/30\n",
      "250/250 [==============================] - 2s 7ms/step - loss: 0.9628 - accuracy: 0.6538\n",
      "Epoch 3/30\n",
      "250/250 [==============================] - 2s 7ms/step - loss: 0.9473 - accuracy: 0.6601\n",
      "Epoch 4/30\n",
      "250/250 [==============================] - 2s 7ms/step - loss: 0.9215 - accuracy: 0.6658\n",
      "Epoch 5/30\n",
      "250/250 [==============================] - 2s 7ms/step - loss: 0.9107 - accuracy: 0.6671\n",
      "Epoch 6/30\n",
      "250/250 [==============================] - 2s 6ms/step - loss: 0.8931 - accuracy: 0.6787\n",
      "Epoch 7/30\n",
      "250/250 [==============================] - 2s 7ms/step - loss: 0.8788 - accuracy: 0.6765\n",
      "Epoch 8/30\n",
      "250/250 [==============================] - 2s 7ms/step - loss: 0.8622 - accuracy: 0.6859\n",
      "Epoch 9/30\n",
      "250/250 [==============================] - 2s 7ms/step - loss: 0.8440 - accuracy: 0.6941\n",
      "Epoch 10/30\n",
      "250/250 [==============================] - 2s 6ms/step - loss: 0.8121 - accuracy: 0.7086\n",
      "Epoch 11/30\n",
      "250/250 [==============================] - 2s 7ms/step - loss: 0.8030 - accuracy: 0.7069\n",
      "Epoch 12/30\n",
      "250/250 [==============================] - 2s 6ms/step - loss: 0.7684 - accuracy: 0.7215\n",
      "Epoch 13/30\n",
      "250/250 [==============================] - 2s 7ms/step - loss: 0.7669 - accuracy: 0.7231\n",
      "Epoch 14/30\n",
      "250/250 [==============================] - 2s 7ms/step - loss: 0.7419 - accuracy: 0.7269\n",
      "Epoch 15/30\n",
      "250/250 [==============================] - 2s 7ms/step - loss: 0.7254 - accuracy: 0.7354\n",
      "Epoch 16/30\n",
      "250/250 [==============================] - 2s 7ms/step - loss: 0.7031 - accuracy: 0.7536\n",
      "Epoch 17/30\n",
      "250/250 [==============================] - 2s 6ms/step - loss: 0.6767 - accuracy: 0.7610\n",
      "Epoch 18/30\n",
      "250/250 [==============================] - 2s 7ms/step - loss: 0.6782 - accuracy: 0.7569\n",
      "Epoch 19/30\n",
      "250/250 [==============================] - 2s 6ms/step - loss: 0.6373 - accuracy: 0.7688\n",
      "Epoch 20/30\n",
      "250/250 [==============================] - 2s 7ms/step - loss: 0.6228 - accuracy: 0.7771\n",
      "Epoch 21/30\n",
      "250/250 [==============================] - 2s 7ms/step - loss: 0.6470 - accuracy: 0.7665\n",
      "Epoch 22/30\n",
      "250/250 [==============================] - 2s 6ms/step - loss: 0.5735 - accuracy: 0.7979\n",
      "Epoch 23/30\n",
      "250/250 [==============================] - 2s 7ms/step - loss: 0.5890 - accuracy: 0.7901\n",
      "Epoch 24/30\n",
      "250/250 [==============================] - 2s 6ms/step - loss: 0.5602 - accuracy: 0.8014\n",
      "Epoch 25/30\n",
      "250/250 [==============================] - 2s 7ms/step - loss: 0.5701 - accuracy: 0.7921\n",
      "Epoch 26/30\n",
      "250/250 [==============================] - 2s 7ms/step - loss: 0.5275 - accuracy: 0.8075\n",
      "Epoch 27/30\n",
      "250/250 [==============================] - 2s 6ms/step - loss: 0.5343 - accuracy: 0.8096\n",
      "Epoch 28/30\n",
      "250/250 [==============================] - 2s 6ms/step - loss: 0.4829 - accuracy: 0.8292\n",
      "Epoch 29/30\n",
      "250/250 [==============================] - 2s 6ms/step - loss: 0.5095 - accuracy: 0.8161\n",
      "Epoch 30/30\n",
      "250/250 [==============================] - 2s 7ms/step - loss: 0.4815 - accuracy: 0.8265\n"
     ]
    }
   ],
   "source": [
    "model.compile(optimizer = \"adam\",loss = \"sparse_categorical_crossentropy\", metrics = [\"accuracy\"])\n",
    "statistic_2 = model.fit(X_train,y_train, epochs = 30)"
   ]
  },
  {
   "cell_type": "code",
   "execution_count": null,
   "metadata": {},
   "outputs": [
    {
     "name": "stdout",
     "output_type": "stream",
     "text": [
      "63/63 [==============================] - 0s 3ms/step - loss: 1.8911 - accuracy: 0.4070\n"
     ]
    }
   ],
   "source": [
    "test_loss, test_acc = model.evaluate(X_test,y_test)"
   ]
  },
  {
   "cell_type": "markdown",
   "metadata": {},
   "source": [
    "This model with 30 epochs, has a accuracy of 0.7412, however when testing, the accuracy drops to 0.401\n",
    "I think this means overfitting, My model seems to work properly this time, the accuracy of 40, means my model is actually working as intended, however it is not very reliable. I need to try and optimize it "
   ]
  },
  {
   "cell_type": "markdown",
   "metadata": {},
   "source": [
    "## Improvment 3"
   ]
  },
  {
   "cell_type": "markdown",
   "metadata": {},
   "source": [
    "---"
   ]
  },
  {
   "cell_type": "markdown",
   "metadata": {},
   "source": [
    "In this attempt, I will wrangle the data before feeding it to the model, using a modified show_image function, and include a extra flatten layer in my model, to see if this makes any difference."
   ]
  },
  {
   "cell_type": "code",
   "execution_count": 91,
   "metadata": {},
   "outputs": [],
   "source": [
    "X_train = data[:8000]\n",
    "X_test = data[8000:10000]\n",
    "\n",
    "y_train = labels[:8000]\n",
    "y_test = labels[8000:10000]"
   ]
  },
  {
   "cell_type": "code",
   "execution_count": 92,
   "metadata": {},
   "outputs": [],
   "source": [
    "def convert_dataset(dataset):\n",
    "        \"\"\"\n",
    "        input dataset\n",
    "        converts the vector tensors inside the dataset into a eligible format\n",
    "\n",
    "        returns a dataset with converted images.\n",
    "        \"\"\"\n",
    "        res = [] \n",
    "        for i in range(len(dataset)):\n",
    "                res.append(np.transpose(dataset[i].reshape(3,32,32), axes = [1,2,0]))\n",
    "                \n",
    "        return np.array(res)/255.0 # I had to convert the list into numpy array and divide all the elements by 255.0\n",
    "\n",
    "    \n"
   ]
  },
  {
   "cell_type": "code",
   "execution_count": 93,
   "metadata": {},
   "outputs": [],
   "source": [
    "X_train = convert_dataset(X_train)\n",
    "X_test = convert_dataset(X_test)\n",
    "y_train = np.array(y_train)\n",
    "y_test = np.array(y_test)\n"
   ]
  },
  {
   "cell_type": "code",
   "execution_count": 94,
   "metadata": {},
   "outputs": [
    {
     "data": {
      "image/png": "[encoded data removed]",
      "text/plain": [
       "<Figure size 432x288 with 1 Axes>"
      ]
     },
     "metadata": {
      "needs_background": "light"
     },
     "output_type": "display_data"
    }
   ],
   "source": [
    "plt.imshow(X_train[3])\n",
    "plt.title(keys[y_train[3]].decode(\"utf-8\"))\n",
    "plt.axis('off') \n",
    "plt.show()"
   ]
  },
  {
   "cell_type": "markdown",
   "metadata": {},
   "source": [
    "My images seem to be legible"
   ]
  },
  {
   "cell_type": "markdown",
   "metadata": {},
   "source": [
    "#### Creating the model\n",
    "\n",
    "This model will be similar to the second attempt, with a extra flatten layer"
   ]
  },
  {
   "cell_type": "code",
   "execution_count": 95,
   "metadata": {},
   "outputs": [],
   "source": [
    "import tensorflow as tf\n",
    "from tensorflow import keras\n"
   ]
  },
  {
   "cell_type": "code",
   "execution_count": 96,
   "metadata": {},
   "outputs": [],
   "source": [
    "model = keras.Sequential([\n",
    "    keras.layers.Flatten(),\n",
    "    keras.layers.Dense(128, activation = 'relu'),\n",
    "    keras.layers.Dense(128, activation = 'relu'),\n",
    "    keras.layers.Dense(10, activation = 'softmax') # Since there are 10 output classifications\n",
    "    ])"
   ]
  },
  {
   "cell_type": "code",
   "execution_count": 97,
   "metadata": {},
   "outputs": [],
   "source": [
    "model.compile(optimizer = \"adam\",loss = \"sparse_categorical_crossentropy\", metrics = [\"accuracy\"])"
   ]
  },
  {
   "cell_type": "code",
   "execution_count": 98,
   "metadata": {},
   "outputs": [
    {
     "name": "stdout",
     "output_type": "stream",
     "text": [
      "Epoch 1/30\n",
      "250/250 [==============================] - 2s 6ms/step - loss: 2.0601 - accuracy: 0.2365\n",
      "Epoch 2/30\n",
      "250/250 [==============================] - 2s 6ms/step - loss: 1.8824 - accuracy: 0.3165\n",
      "Epoch 3/30\n",
      "250/250 [==============================] - 2s 6ms/step - loss: 1.7997 - accuracy: 0.3476\n",
      "Epoch 4/30\n",
      "250/250 [==============================] - 2s 7ms/step - loss: 1.7465 - accuracy: 0.3677\n",
      "Epoch 5/30\n",
      "250/250 [==============================] - 2s 6ms/step - loss: 1.7014 - accuracy: 0.3832\n",
      "Epoch 6/30\n",
      "250/250 [==============================] - 2s 6ms/step - loss: 1.6538 - accuracy: 0.4066\n",
      "Epoch 7/30\n",
      "250/250 [==============================] - 2s 6ms/step - loss: 1.6269 - accuracy: 0.4180\n",
      "Epoch 8/30\n",
      "250/250 [==============================] - 2s 7ms/step - loss: 1.6032 - accuracy: 0.4209\n",
      "Epoch 9/30\n",
      "250/250 [==============================] - 2s 6ms/step - loss: 1.5732 - accuracy: 0.4339\n",
      "Epoch 10/30\n",
      "250/250 [==============================] - 2s 6ms/step - loss: 1.5445 - accuracy: 0.4491\n",
      "Epoch 11/30\n",
      "250/250 [==============================] - 2s 6ms/step - loss: 1.5150 - accuracy: 0.4561\n",
      "Epoch 12/30\n",
      "250/250 [==============================] - 2s 6ms/step - loss: 1.4919 - accuracy: 0.4610\n",
      "Epoch 13/30\n",
      "250/250 [==============================] - 1s 6ms/step - loss: 1.4797 - accuracy: 0.4701\n",
      "Epoch 14/30\n",
      "250/250 [==============================] - 1s 6ms/step - loss: 1.4616 - accuracy: 0.4729\n",
      "Epoch 15/30\n",
      "250/250 [==============================] - 2s 7ms/step - loss: 1.4438 - accuracy: 0.4812\n",
      "Epoch 16/30\n",
      "250/250 [==============================] - 2s 6ms/step - loss: 1.4110 - accuracy: 0.4936\n",
      "Epoch 17/30\n",
      "250/250 [==============================] - 1s 6ms/step - loss: 1.4217 - accuracy: 0.4891\n",
      "Epoch 18/30\n",
      "250/250 [==============================] - 2s 6ms/step - loss: 1.3806 - accuracy: 0.5074\n",
      "Epoch 19/30\n",
      "250/250 [==============================] - 2s 6ms/step - loss: 1.3805 - accuracy: 0.5077\n",
      "Epoch 20/30\n",
      "250/250 [==============================] - 1s 6ms/step - loss: 1.3612 - accuracy: 0.5035\n",
      "Epoch 21/30\n",
      "250/250 [==============================] - 1s 6ms/step - loss: 1.3384 - accuracy: 0.5179\n",
      "Epoch 22/30\n",
      "250/250 [==============================] - 2s 7ms/step - loss: 1.3300 - accuracy: 0.5166\n",
      "Epoch 23/30\n",
      "250/250 [==============================] - 2s 6ms/step - loss: 1.2999 - accuracy: 0.5320\n",
      "Epoch 24/30\n",
      "250/250 [==============================] - 2s 6ms/step - loss: 1.2925 - accuracy: 0.5357\n",
      "Epoch 25/30\n",
      "250/250 [==============================] - 2s 6ms/step - loss: 1.2966 - accuracy: 0.5365\n",
      "Epoch 26/30\n",
      "250/250 [==============================] - 2s 6ms/step - loss: 1.2739 - accuracy: 0.5400\n",
      "Epoch 27/30\n",
      "250/250 [==============================] - 2s 6ms/step - loss: 1.2778 - accuracy: 0.5425\n",
      "Epoch 28/30\n",
      "250/250 [==============================] - 2s 6ms/step - loss: 1.2298 - accuracy: 0.5569\n",
      "Epoch 29/30\n",
      "250/250 [==============================] - 1s 6ms/step - loss: 1.2351 - accuracy: 0.5556\n",
      "Epoch 30/30\n",
      "250/250 [==============================] - 2s 6ms/step - loss: 1.2372 - accuracy: 0.5536\n"
     ]
    }
   ],
   "source": [
    "statistic_3 = model.fit(X_train,y_train,batch_size= 32,epochs = 30)"
   ]
  },
  {
   "cell_type": "code",
   "execution_count": 99,
   "metadata": {},
   "outputs": [
    {
     "name": "stdout",
     "output_type": "stream",
     "text": [
      "63/63 [==============================] - 0s 3ms/step - loss: 1.7314 - accuracy: 0.4270\n"
     ]
    }
   ],
   "source": [
    "test_loss, test_acc = model.evaluate(X_test,y_test)"
   ]
  },
  {
   "cell_type": "markdown",
   "metadata": {},
   "source": [
    "Feeding in (3,32,32) tensors as opposed to (3072,) seems to have no effect on the performance of the model. when evaluating the model. It still has the exact same accuracy of 0.407, and is overfitted with a accuracy of 0.7951"
   ]
  },
  {
   "cell_type": "markdown",
   "metadata": {},
   "source": [
    "A accuracy of 40% isn't too bad, it suggests i'm on the right track, as it shows my model isn't just guessing randomly with a accuracy of 10%. So my model is working, just not optimally."
   ]
  },
  {
   "cell_type": "markdown",
   "metadata": {},
   "source": [
    "## Improvement 4"
   ]
  },
  {
   "cell_type": "markdown",
   "metadata": {},
   "source": [
    "I decided to improve the model itself. Instead of using 2 dense layers, I decided to build a model with multiple layers, and varying types to improve my accuracy"
   ]
  },
  {
   "cell_type": "code",
   "execution_count": 100,
   "metadata": {},
   "outputs": [],
   "source": [
    "from tensorflow.keras.layers import Conv2D, MaxPooling2D, Flatten, Dense\n",
    "from tensorflow.keras.model import Sequential\n"
   ]
  },
  {
   "cell_type": "code",
   "execution_count": 108,
   "metadata": {},
   "outputs": [],
   "source": [
    "X_train = data[:8000]\n",
    "X_test = data[8000:10000]\n",
    "\n",
    "y_train = labels[:8000]\n",
    "y_test = labels[8000:10000]\n",
    "\n",
    "X_train = convert_dataset(X_train)\n",
    "X_test = convert_dataset(X_test)\n",
    "y_train = np.array(y_train)\n",
    "y_test = np.array(y_test)\n",
    "\n"
   ]
  },
  {
   "cell_type": "code",
   "execution_count": 109,
   "metadata": {},
   "outputs": [
    {
     "data": {
      "text/plain": [
       "(32, 32, 3)"
      ]
     },
     "execution_count": 109,
     "metadata": {},
     "output_type": "execute_result"
    }
   ],
   "source": [
    "X_train[0].shape"
   ]
  },
  {
   "cell_type": "code",
   "execution_count": 110,
   "metadata": {},
   "outputs": [],
   "source": [
    "model = None"
   ]
  },
  {
   "cell_type": "code",
   "execution_count": 115,
   "metadata": {},
   "outputs": [],
   "source": [
    "model = Sequential() # creating sequential model\n",
    "\n",
    "model.add(Conv2D(32, (3, 3), activation='relu', input_shape=X_train[0].shape)) # input layer, \n",
    "\n",
    "model.add(MaxPooling2D((2, 2)))\n",
    "model.add(Conv2D(64, (3, 3), activation='relu'))\n",
    "model.add(MaxPooling2D((2, 2)))\n",
    "model.add(Conv2D(64, (3, 3), activation='relu'))\n",
    "\n",
    "model.add(Flatten())\n",
    "model.add(Dense(64, activation='relu'))\n",
    "model.add(Dense(10))\n"
   ]
  },
  {
   "cell_type": "code",
   "execution_count": 117,
   "metadata": {},
   "outputs": [
    {
     "name": "stdout",
     "output_type": "stream",
     "text": [
      "Epoch 1/5\n",
      "250/250 [==============================] - 10s 39ms/step - loss: 2.3831 - accuracy: 0.1584 - val_loss: 2.2451 - val_accuracy: 0.1305\n",
      "Epoch 2/5\n",
      "250/250 [==============================] - 10s 41ms/step - loss: 2.1898 - accuracy: 0.1639 - val_loss: 2.2263 - val_accuracy: 0.1240\n",
      "Epoch 3/5\n",
      "250/250 [==============================] - 10s 39ms/step - loss: 2.1405 - accuracy: 0.1960 - val_loss: 2.2957 - val_accuracy: 0.1195\n",
      "Epoch 4/5\n",
      "250/250 [==============================] - 10s 41ms/step - loss: 2.2219 - accuracy: 0.1335 - val_loss: 2.2508 - val_accuracy: 0.1415\n",
      "Epoch 5/5\n",
      "250/250 [==============================] - 10s 41ms/step - loss: 2.3795 - accuracy: 0.1205 - val_loss: 2.3026 - val_accuracy: 0.1195\n"
     ]
    }
   ],
   "source": [
    "model.compile(optimizer='adam',loss= \"SparseCategoricalCrossentropy\",metrics=['accuracy'])\n",
    "\n",
    "statistic_4 = model.fit(X_train, y_train, epochs=5, validation_data=(X_test, y_test))\n"
   ]
  },
  {
   "cell_type": "markdown",
   "metadata": {},
   "source": [
    "\n",
    "# Statistics"
   ]
  },
  {
   "cell_type": "code",
   "execution_count": 43,
   "metadata": {},
   "outputs": [
    {
     "name": "stdout",
     "output_type": "stream",
     "text": [
      "63/63 - 1s - loss: 1.6489 - accuracy: 0.5650 - 626ms/epoch - 10ms/step\n"
     ]
    },
    {
     "data": {
      "image/png": "[encoded data removed]",
      "text/plain": [
       "<Figure size 432x288 with 1 Axes>"
      ]
     },
     "metadata": {
      "needs_background": "light"
     },
     "output_type": "display_data"
    }
   ],
   "source": [
    "plt.plot(statistic_4.history['accuracy'], label='accuracy')\n",
    "plt.plot(statistic_4.history['val_accuracy'], label = 'val_accuracy')\n",
    "\n",
    "plt.xlabel('Epoch')\n",
    "plt.ylabel('Accuracy')\n",
    "plt.ylim([0.5, 1])\n",
    "plt.legend(loc='lower right')\n",
    "\n",
    "test_loss, test_acc = model.evaluate(X_test,  y_test, verbose=2)\n"
   ]
  },
  {
   "cell_type": "code",
   "execution_count": 44,
   "metadata": {},
   "outputs": [
    {
     "name": "stdout",
     "output_type": "stream",
     "text": [
      "0.5649999976158142\n"
     ]
    }
   ],
   "source": [
    "print(test_acc)\n"
   ]
  },
  {
   "cell_type": "code",
   "execution_count": null,
   "metadata": {},
   "outputs": [],
   "source": []
  }
 ],
 "metadata": {
  "kernelspec": {
   "display_name": "Python 3.8.8 ('base')",
   "language": "python",
   "name": "python3"
  },
  "language_info": {
   "codemirror_mode": {
    "name": "ipython",
    "version": 3
   },
   "file_extension": ".py",
   "mimetype": "text/x-python",
   "name": "python",
   "nbconvert_exporter": "python",
   "pygments_lexer": "ipython3",
   "version": "3.8.8"
  },
  "orig_nbformat": 4,
  "vscode": {
   "interpreter": {
    "hash": "71f4cc5eb07bc0d3ebcedfacc2ab6af50243ce67f8422c9aca860a9f159ae015"
   }
  }
 },
 "nbformat": 4,
 "nbformat_minor": 2
}
