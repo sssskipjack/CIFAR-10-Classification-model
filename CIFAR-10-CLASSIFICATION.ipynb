{
 "cells": [
  {
   "cell_type": "markdown",
   "metadata": {},
   "source": [
    "CIFAR-10-CLASSIFCATION MODEL"
   ]
  },
  {
   "cell_type": "code",
   "execution_count": 2,
   "metadata": {},
   "outputs": [],
   "source": [
    "import tensorflow as tf\n",
    "import numpy as np\n",
    "import matplotlib.pyplot as plt\n"
   ]
  },
  {
   "cell_type": "code",
   "execution_count": 3,
   "metadata": {},
   "outputs": [],
   "source": [
    "def unpickle(file): # - http://www.cs.toronto.edu/~kriz/cifar.html - this will open the file and return a dictionary \n",
    "    import pickle\n",
    "    with open(file, 'rb') as fo:\n",
    "        dict = pickle.load(fo, encoding='bytes')\n",
    "    return dict"
   ]
  },
  {
   "cell_type": "code",
   "execution_count": 4,
   "metadata": {},
   "outputs": [],
   "source": [
    "dataset = unpickle(\"cifar-10-batches-py\\data_batch_1\") # loading data_batch_1 into the variable dataset\n",
    "metadata = unpickle(r\"cifar-10-batches-py\\batches.meta\") # These are the label names"
   ]
  },
  {
   "cell_type": "markdown",
   "metadata": {},
   "source": [
    "Instead of importing the dataset directly, I decided to install it as a zip from online, to practice loading and wrangling the data"
   ]
  },
  {
   "cell_type": "markdown",
   "metadata": {},
   "source": [
    "The website source of the dataset states:\n",
    "\n",
    " **data** -- a 10000x3072 numpy array of uint8s. Each row of the array stores a 32x32 colour image. The first 1024 entries contain the red channel values, the next 1024 the green, and the final 1024 the blue. The image is stored in row-major order, so that the first 32 entries of the array are the red channel values of the first row of the image.\n",
    "\n",
    "**labels** -- a list of 10000 numbers in the range 0-9. The number at index i indicates the label of the ith image in the array data.\n"
   ]
  },
  {
   "cell_type": "code",
   "execution_count": 5,
   "metadata": {},
   "outputs": [
    {
     "name": "stdout",
     "output_type": "stream",
     "text": [
      "dict_keys([b'batch_label', b'labels', b'data', b'filenames']) dict_keys([b'num_cases_per_batch', b'label_names', b'num_vis'])\n"
     ]
    }
   ],
   "source": [
    "print(dataset.keys(),\n",
    "metadata.keys())"
   ]
  },
  {
   "cell_type": "markdown",
   "metadata": {},
   "source": [
    "We can see the the relevant items in the dataset and metadata dictionary"
   ]
  },
  {
   "cell_type": "code",
   "execution_count": 6,
   "metadata": {},
   "outputs": [],
   "source": [
    "labels = dataset[b'labels']\n",
    "data = dataset[b'data']"
   ]
  },
  {
   "cell_type": "code",
   "execution_count": 7,
   "metadata": {},
   "outputs": [
    {
     "data": {
      "text/plain": [
       "10000"
      ]
     },
     "execution_count": 7,
     "metadata": {},
     "output_type": "execute_result"
    }
   ],
   "source": [
    "len(data)\n",
    "len(labels)"
   ]
  },
  {
   "cell_type": "markdown",
   "metadata": {},
   "source": [
    "As you can see, there are 10000 images + labels in our dataset. I will split the dataset in 80-20 training-testing into the following variables:"
   ]
  },
  {
   "cell_type": "code",
   "execution_count": 8,
   "metadata": {},
   "outputs": [],
   "source": [
    "X_train = data[:8000]\n",
    "X_test = data[8000:10000]\n",
    "\n",
    "y_train = labels[:8000]\n",
    "y_test = labels[8000:10000]"
   ]
  },
  {
   "cell_type": "code",
   "execution_count": 9,
   "metadata": {},
   "outputs": [
    {
     "data": {
      "text/plain": [
       "dict_keys([b'num_cases_per_batch', b'label_names', b'num_vis'])"
      ]
     },
     "execution_count": 9,
     "metadata": {},
     "output_type": "execute_result"
    }
   ],
   "source": [
    "metadata.keys()"
   ]
  },
  {
   "cell_type": "code",
   "execution_count": 10,
   "metadata": {},
   "outputs": [
    {
     "data": {
      "text/plain": [
       "[b'airplane',\n",
       " b'automobile',\n",
       " b'bird',\n",
       " b'cat',\n",
       " b'deer',\n",
       " b'dog',\n",
       " b'frog',\n",
       " b'horse',\n",
       " b'ship',\n",
       " b'truck']"
      ]
     },
     "execution_count": 10,
     "metadata": {},
     "output_type": "execute_result"
    }
   ],
   "source": [
    "keys = metadata[b'label_names']\n",
    "keys"
   ]
  },
  {
   "cell_type": "markdown",
   "metadata": {},
   "source": [
    "a label of 0 should be a airplane, a label of 1 should be of a automobile"
   ]
  },
  {
   "cell_type": "code",
   "execution_count": 11,
   "metadata": {},
   "outputs": [
    {
     "data": {
      "text/plain": [
       "6"
      ]
     },
     "execution_count": 11,
     "metadata": {},
     "output_type": "execute_result"
    }
   ],
   "source": [
    "y_train[0]\n",
    "# plt.imshow(X_train[0]) # This line throws a TypeError: Invalid shape (3072,) for image data. I realized, this is actually a 32 x 32 size image with RGB, however since there is nothing delimiting the rows\n",
    "# So it just shows as 3072 - The images seem to have flattened, meaning I would need to \"unflattern\" them if I want to view them\n",
    "# https://stackoverflow.com/questions/36967920/numpy-flatten-rgb-image-array \n"
   ]
  },
  {
   "cell_type": "code",
   "execution_count": 12,
   "metadata": {},
   "outputs": [],
   "source": [
    "test = X_train[0]"
   ]
  },
  {
   "cell_type": "code",
   "execution_count": 13,
   "metadata": {},
   "outputs": [
    {
     "data": {
      "text/plain": [
       "<matplotlib.image.AxesImage at 0x27b034e4d30>"
      ]
     },
     "execution_count": 13,
     "metadata": {},
     "output_type": "execute_result"
    },
    {
     "data": {
      "image/png": "[encoded data removed]",
      "text/plain": [
       "<Figure size 432x288 with 1 Axes>"
      ]
     },
     "metadata": {
      "needs_background": "light"
     },
     "output_type": "display_data"
    }
   ],
   "source": [
    "reshaped_image = test.reshape(32,32,3) # 32 x 32 (image size) with the 3 denoting the RGB values\n",
    "\n",
    "plt.imshow(reshaped_image)\n"
   ]
  },
  {
   "cell_type": "markdown",
   "metadata": {},
   "source": [
    "I'm going to have to reformat the array If I want to view the image, I will create a function that will allow me to view the image without changing the data structure of the original image"
   ]
  },
  {
   "cell_type": "code",
   "execution_count": 14,
   "metadata": {},
   "outputs": [],
   "source": [
    "def show_image(index = 0, feature_data = X_train, label_data = y_train, keys = keys):\n",
    "        \"\"\"\n",
    "        input feature, and label data, and the keys dictionary, optional param index\n",
    "\n",
    "        displays the image + label\n",
    "        \"\"\"\n",
    "        # The images are stored as a 3072 element vector, I need to reshape this into a tensor \n",
    "        # The image source states \"The first 1024 bytes are the red channel values, the next 1024 the green,\n",
    "        # and the final 1024 the blue. The values are stored in row-major order, so the first 32 bytes are the red channel values of the first row of the image.\"\n",
    "        res = feature_data[index].reshape(3,32,32) \n",
    "        #matplotlib reads the RGB channels last in the matrix. So I'm rearranging the tensor accordingly\n",
    "        res = np.transpose(res, axes=[1, 2, 0]) \n",
    "\n",
    "        plt.imshow(res)\n",
    "        plt.title(keys[label_data[index]].decode(\"utf-8\")) # adds the label; the decode removes the b and '' from the label for a pleasant viewing experience\n",
    "        plt.axis('off') # I don't want the axis to show either\n",
    "        plt.show()\n",
    "\n",
    "\n"
   ]
  },
  {
   "cell_type": "code",
   "execution_count": 15,
   "metadata": {},
   "outputs": [
    {
     "data": {
      "image/png": "[encoded data removed]",
      "text/plain": [
       "<Figure size 432x288 with 1 Axes>"
      ]
     },
     "metadata": {
      "needs_background": "light"
     },
     "output_type": "display_data"
    }
   ],
   "source": [
    "show_image()"
   ]
  },
  {
   "cell_type": "markdown",
   "metadata": {},
   "source": [
    "Beautiful!"
   ]
  },
  {
   "cell_type": "markdown",
   "metadata": {},
   "source": [
    "Creating model using keras"
   ]
  },
  {
   "cell_type": "code",
   "execution_count": 16,
   "metadata": {},
   "outputs": [],
   "source": [
    "X_train, X_test = X_train / 255.0, X_test / 255.0\n",
    "# since the values range from 1 to 256, I want them to range from 0-1, i will divide by 255 to achieve this. \n",
    "# Sources state this allows the model to perform more efficiently\n"
   ]
  },
  {
   "cell_type": "code",
   "execution_count": 17,
   "metadata": {},
   "outputs": [],
   "source": [
    "model_v1 = tf.keras.Sequential([ # My model should have one input and one output tensor\n",
    "    tf.keras.layers.Dense(128, activation=tf.nn.relu, input_shape = (3072,)), # input shape of 3072\n",
    "    tf.keras.layers.Dense(128, activation=tf.nn.relu), # relu is a activation function, which determines the\n",
    "    # output shape of each node in the layer\n",
    "    tf.keras.layers.Dense(10) ])\n",
    "\n",
    "\n",
    "    \n",
    "# There is 2 layers with 2 nodes each, and a output layer with 10 nodes, each representing one of the \n",
    "# 10 possible categories\n",
    "\n",
    "\n",
    "    "
   ]
  },
  {
   "cell_type": "markdown",
   "metadata": {},
   "source": [
    "## Attempt 1\n",
    "---"
   ]
  },
  {
   "cell_type": "markdown",
   "metadata": {},
   "source": [
    "In this attempt, I decided to follow this [Walkthrough](https://www.tensorflow.org/tutorials/customization/custom_training_walkthrough) on the tensorflow website. \n",
    "\n"
   ]
  },
  {
   "cell_type": "markdown",
   "metadata": {},
   "source": [
    "This walkthrough involved defining your own loss and gradient functions. "
   ]
  },
  {
   "cell_type": "code",
   "execution_count": 18,
   "metadata": {},
   "outputs": [
    {
     "ename": "NameError",
     "evalue": "name 'loss' is not defined",
     "output_type": "error",
     "traceback": [
      "\u001b[1;31m---------------------------------------------------------------------------\u001b[0m",
      "\u001b[1;31mNameError\u001b[0m                                 Traceback (most recent call last)",
      "\u001b[1;32m<ipython-input-18-82b3d751ec4f>\u001b[0m in \u001b[0;36m<module>\u001b[1;34m\u001b[0m\n\u001b[1;32m----> 1\u001b[1;33m \u001b[0ml\u001b[0m \u001b[1;33m=\u001b[0m \u001b[0mloss\u001b[0m\u001b[1;33m(\u001b[0m\u001b[0mmodel_v1\u001b[0m\u001b[1;33m,\u001b[0m \u001b[0mX_train\u001b[0m\u001b[1;33m,\u001b[0m \u001b[0my_train\u001b[0m\u001b[1;33m,\u001b[0m \u001b[0mtraining\u001b[0m\u001b[1;33m=\u001b[0m\u001b[1;32mFalse\u001b[0m\u001b[1;33m)\u001b[0m\u001b[1;33m\u001b[0m\u001b[1;33m\u001b[0m\u001b[0m\n\u001b[0m\u001b[0;32m      2\u001b[0m \u001b[0mprint\u001b[0m\u001b[1;33m(\u001b[0m\u001b[1;34m\"Loss test: {}\"\u001b[0m\u001b[1;33m.\u001b[0m\u001b[0mformat\u001b[0m\u001b[1;33m(\u001b[0m\u001b[0ml\u001b[0m\u001b[1;33m)\u001b[0m\u001b[1;33m)\u001b[0m\u001b[1;33m\u001b[0m\u001b[1;33m\u001b[0m\u001b[0m\n",
      "\u001b[1;31mNameError\u001b[0m: name 'loss' is not defined"
     ]
    }
   ],
   "source": [
    "l = loss(model_v1, X_train, y_train, training=False)\n",
    "print(\"Loss test: {}\".format(l))"
   ]
  },
  {
   "cell_type": "code",
   "execution_count": null,
   "metadata": {},
   "outputs": [],
   "source": [
    "def grad(model,inputs,targets):\n",
    "    with tf.GradientTape() as tape:\n",
    "        loss_value = loss(model, inputs, targets, training = True)\n",
    "    return loss_value, tape.gradient(loss_value, model.trainable_variables)"
   ]
  },
  {
   "cell_type": "markdown",
   "metadata": {},
   "source": [
    "Creating optimizer \n",
    "\n"
   ]
  },
  {
   "cell_type": "code",
   "execution_count": null,
   "metadata": {},
   "outputs": [
    {
     "name": "stdout",
     "output_type": "stream",
     "text": [
      "Step: 0, Initial Loss: 2.464334011077881\n",
      "Step: 1,         Loss: 2.399326801300049\n"
     ]
    }
   ],
   "source": [
    "optimizer = tf.keras.optimizers.SGD(learning_rate = 0.01)\n",
    "loss_value, grads = grad(model_v1, X_train, y_train)\n",
    "print(\"Step: {}, Initial Loss: {}\".format(optimizer.iterations.numpy(),\n",
    "                                          loss_value.numpy()))\n",
    "\n",
    "optimizer.apply_gradients(zip(grads, model_v1.trainable_variables))\n",
    "\n",
    "print(\"Step: {},         Loss: {}\".format(optimizer.iterations.numpy(),\n",
    "                                          loss(model_v1, X_train, y_train, training=True).numpy()))"
   ]
  },
  {
   "cell_type": "code",
   "execution_count": null,
   "metadata": {},
   "outputs": [],
   "source": [
    "model_v1.compile(loss = l, optimizer = optimizer, metrics = ['accuracy'])"
   ]
  },
  {
   "cell_type": "code",
   "execution_count": null,
   "metadata": {},
   "outputs": [
    {
     "ename": "ValueError",
     "evalue": "Failed to find data adapter that can handle input: <class 'numpy.ndarray'>, (<class 'list'> containing values of types {\"<class 'int'>\"})",
     "output_type": "error",
     "traceback": [
      "\u001b[1;31m---------------------------------------------------------------------------\u001b[0m",
      "\u001b[1;31mValueError\u001b[0m                                Traceback (most recent call last)",
      "\u001b[1;32m<ipython-input-23-666022cd5440>\u001b[0m in \u001b[0;36m<module>\u001b[1;34m\u001b[0m\n\u001b[1;32m----> 1\u001b[1;33m \u001b[0mmodel_v1\u001b[0m\u001b[1;33m.\u001b[0m\u001b[0mfit\u001b[0m\u001b[1;33m(\u001b[0m\u001b[0mX_train\u001b[0m\u001b[1;33m,\u001b[0m\u001b[0my_train\u001b[0m\u001b[1;33m,\u001b[0m\u001b[0mbatch_size\u001b[0m\u001b[1;33m=\u001b[0m\u001b[1;36m32\u001b[0m\u001b[1;33m)\u001b[0m\u001b[1;33m\u001b[0m\u001b[1;33m\u001b[0m\u001b[0m\n\u001b[0m",
      "\u001b[1;32mc:\\Users\\maste\\anaconda3\\lib\\site-packages\\keras\\utils\\traceback_utils.py\u001b[0m in \u001b[0;36merror_handler\u001b[1;34m(*args, **kwargs)\u001b[0m\n\u001b[0;32m     65\u001b[0m     \u001b[1;32mexcept\u001b[0m \u001b[0mException\u001b[0m \u001b[1;32mas\u001b[0m \u001b[0me\u001b[0m\u001b[1;33m:\u001b[0m  \u001b[1;31m# pylint: disable=broad-except\u001b[0m\u001b[1;33m\u001b[0m\u001b[1;33m\u001b[0m\u001b[0m\n\u001b[0;32m     66\u001b[0m       \u001b[0mfiltered_tb\u001b[0m \u001b[1;33m=\u001b[0m \u001b[0m_process_traceback_frames\u001b[0m\u001b[1;33m(\u001b[0m\u001b[0me\u001b[0m\u001b[1;33m.\u001b[0m\u001b[0m__traceback__\u001b[0m\u001b[1;33m)\u001b[0m\u001b[1;33m\u001b[0m\u001b[1;33m\u001b[0m\u001b[0m\n\u001b[1;32m---> 67\u001b[1;33m       \u001b[1;32mraise\u001b[0m \u001b[0me\u001b[0m\u001b[1;33m.\u001b[0m\u001b[0mwith_traceback\u001b[0m\u001b[1;33m(\u001b[0m\u001b[0mfiltered_tb\u001b[0m\u001b[1;33m)\u001b[0m \u001b[1;32mfrom\u001b[0m \u001b[1;32mNone\u001b[0m\u001b[1;33m\u001b[0m\u001b[1;33m\u001b[0m\u001b[0m\n\u001b[0m\u001b[0;32m     68\u001b[0m     \u001b[1;32mfinally\u001b[0m\u001b[1;33m:\u001b[0m\u001b[1;33m\u001b[0m\u001b[1;33m\u001b[0m\u001b[0m\n\u001b[0;32m     69\u001b[0m       \u001b[1;32mdel\u001b[0m \u001b[0mfiltered_tb\u001b[0m\u001b[1;33m\u001b[0m\u001b[1;33m\u001b[0m\u001b[0m\n",
      "\u001b[1;32mc:\\Users\\maste\\anaconda3\\lib\\site-packages\\keras\\engine\\data_adapter.py\u001b[0m in \u001b[0;36mselect_data_adapter\u001b[1;34m(x, y)\u001b[0m\n\u001b[0;32m    983\u001b[0m   \u001b[1;32mif\u001b[0m \u001b[1;32mnot\u001b[0m \u001b[0madapter_cls\u001b[0m\u001b[1;33m:\u001b[0m\u001b[1;33m\u001b[0m\u001b[1;33m\u001b[0m\u001b[0m\n\u001b[0;32m    984\u001b[0m     \u001b[1;31m# TODO(scottzhu): This should be a less implementation-specific error.\u001b[0m\u001b[1;33m\u001b[0m\u001b[1;33m\u001b[0m\u001b[1;33m\u001b[0m\u001b[0m\n\u001b[1;32m--> 985\u001b[1;33m     raise ValueError(\n\u001b[0m\u001b[0;32m    986\u001b[0m         \u001b[1;34m\"Failed to find data adapter that can handle \"\u001b[0m\u001b[1;33m\u001b[0m\u001b[1;33m\u001b[0m\u001b[0m\n\u001b[0;32m    987\u001b[0m         \"input: {}, {}\".format(\n",
      "\u001b[1;31mValueError\u001b[0m: Failed to find data adapter that can handle input: <class 'numpy.ndarray'>, (<class 'list'> containing values of types {\"<class 'int'>\"})"
     ]
    }
   ],
   "source": [
    "model_v1.fit(X_train,y_train,batch_size=32)"
   ]
  },
  {
   "cell_type": "markdown",
   "metadata": {},
   "source": [
    "When trying to compile my model I run into this error\n",
    "\n",
    "    ValueError: Failed to find data adapter that can handle input: <class 'numpy.ndarray'>, (<class 'list'> containing values of types {\"<class 'int'>\"})\n",
    "\n",
    "I think I can fix this by converting my datasets into numpy arrays\n"
   ]
  },
  {
   "cell_type": "code",
   "execution_count": null,
   "metadata": {},
   "outputs": [
    {
     "data": {
      "text/plain": [
       "<tf.Variable 'UnreadVariable' shape=() dtype=int64, numpy=1>"
      ]
     },
     "execution_count": 33,
     "metadata": {},
     "output_type": "execute_result"
    }
   ],
   "source": [
    "X_train_v2 = np.array(X_train)\n",
    "y_train_v2 = np.array(y_train)\n",
    "X_test_v2 = np.array(X_test)\n",
    "y_test_v2 = np.array(y_test)\n",
    "\n",
    "l = loss(model_v1, X_train_v2, y_train_v2, training=False)\n",
    "\n",
    "optimizer = tf.keras.optimizers.SGD(learning_rate = 0.01)\n",
    "loss_value, grads = grad(model_v1, X_train_v2, y_train_v2)\n",
    "optimizer.apply_gradients(zip(grads, model_v1.trainable_variables))\n",
    "\n"
   ]
  },
  {
   "cell_type": "code",
   "execution_count": null,
   "metadata": {},
   "outputs": [],
   "source": [
    "model_v1.compile(loss = l, optimizer = optimizer, metrics = ['accuracy'])"
   ]
  },
  {
   "cell_type": "code",
   "execution_count": null,
   "metadata": {},
   "outputs": [
    {
     "ename": "ValueError",
     "evalue": "in user code:\n\n    File \"c:\\Users\\maste\\anaconda3\\lib\\site-packages\\keras\\engine\\training.py\", line 1051, in train_function  *\n        return step_function(self, iterator)\n    File \"c:\\Users\\maste\\anaconda3\\lib\\site-packages\\keras\\engine\\training.py\", line 1040, in step_function  **\n        outputs = model.distribute_strategy.run(run_step, args=(data,))\n    File \"c:\\Users\\maste\\anaconda3\\lib\\site-packages\\keras\\engine\\training.py\", line 1030, in run_step  **\n        outputs = model.train_step(data)\n    File \"c:\\Users\\maste\\anaconda3\\lib\\site-packages\\keras\\engine\\training.py\", line 890, in train_step\n        loss = self.compute_loss(x, y, y_pred, sample_weight)\n    File \"c:\\Users\\maste\\anaconda3\\lib\\site-packages\\keras\\engine\\training.py\", line 948, in compute_loss\n        return self.compiled_loss(\n    File \"c:\\Users\\maste\\anaconda3\\lib\\site-packages\\keras\\engine\\compile_utils.py\", line 184, in __call__\n        self.build(y_pred)\n    File \"c:\\Users\\maste\\anaconda3\\lib\\site-packages\\keras\\engine\\compile_utils.py\", line 133, in build\n        self._losses = tf.nest.map_structure(self._get_loss_object, self._losses)\n    File \"c:\\Users\\maste\\anaconda3\\lib\\site-packages\\keras\\engine\\compile_utils.py\", line 272, in _get_loss_object\n        loss = losses_mod.get(loss)\n    File \"c:\\Users\\maste\\anaconda3\\lib\\site-packages\\keras\\losses.py\", line 2372, in get\n        raise ValueError(\n\n    ValueError: Could not interpret loss function identifier: 2.362820863723755\n",
     "output_type": "error",
     "traceback": [
      "\u001b[1;31m---------------------------------------------------------------------------\u001b[0m",
      "\u001b[1;31mValueError\u001b[0m                                Traceback (most recent call last)",
      "\u001b[1;32m<ipython-input-35-8477651ca2b8>\u001b[0m in \u001b[0;36m<module>\u001b[1;34m\u001b[0m\n\u001b[1;32m----> 1\u001b[1;33m \u001b[0mmodel_v1\u001b[0m\u001b[1;33m.\u001b[0m\u001b[0mfit\u001b[0m\u001b[1;33m(\u001b[0m\u001b[0mX_train_v2\u001b[0m\u001b[1;33m,\u001b[0m\u001b[0my_train_v2\u001b[0m\u001b[1;33m,\u001b[0m\u001b[0mbatch_size\u001b[0m\u001b[1;33m=\u001b[0m\u001b[1;36m32\u001b[0m\u001b[1;33m)\u001b[0m\u001b[1;33m\u001b[0m\u001b[1;33m\u001b[0m\u001b[0m\n\u001b[0m",
      "\u001b[1;32mc:\\Users\\maste\\anaconda3\\lib\\site-packages\\keras\\utils\\traceback_utils.py\u001b[0m in \u001b[0;36merror_handler\u001b[1;34m(*args, **kwargs)\u001b[0m\n\u001b[0;32m     65\u001b[0m     \u001b[1;32mexcept\u001b[0m \u001b[0mException\u001b[0m \u001b[1;32mas\u001b[0m \u001b[0me\u001b[0m\u001b[1;33m:\u001b[0m  \u001b[1;31m# pylint: disable=broad-except\u001b[0m\u001b[1;33m\u001b[0m\u001b[1;33m\u001b[0m\u001b[0m\n\u001b[0;32m     66\u001b[0m       \u001b[0mfiltered_tb\u001b[0m \u001b[1;33m=\u001b[0m \u001b[0m_process_traceback_frames\u001b[0m\u001b[1;33m(\u001b[0m\u001b[0me\u001b[0m\u001b[1;33m.\u001b[0m\u001b[0m__traceback__\u001b[0m\u001b[1;33m)\u001b[0m\u001b[1;33m\u001b[0m\u001b[1;33m\u001b[0m\u001b[0m\n\u001b[1;32m---> 67\u001b[1;33m       \u001b[1;32mraise\u001b[0m \u001b[0me\u001b[0m\u001b[1;33m.\u001b[0m\u001b[0mwith_traceback\u001b[0m\u001b[1;33m(\u001b[0m\u001b[0mfiltered_tb\u001b[0m\u001b[1;33m)\u001b[0m \u001b[1;32mfrom\u001b[0m \u001b[1;32mNone\u001b[0m\u001b[1;33m\u001b[0m\u001b[1;33m\u001b[0m\u001b[0m\n\u001b[0m\u001b[0;32m     68\u001b[0m     \u001b[1;32mfinally\u001b[0m\u001b[1;33m:\u001b[0m\u001b[1;33m\u001b[0m\u001b[1;33m\u001b[0m\u001b[0m\n\u001b[0;32m     69\u001b[0m       \u001b[1;32mdel\u001b[0m \u001b[0mfiltered_tb\u001b[0m\u001b[1;33m\u001b[0m\u001b[1;33m\u001b[0m\u001b[0m\n",
      "\u001b[1;32mc:\\Users\\maste\\anaconda3\\lib\\site-packages\\keras\\engine\\training.py\u001b[0m in \u001b[0;36mtf__train_function\u001b[1;34m(iterator)\u001b[0m\n\u001b[0;32m     13\u001b[0m                 \u001b[1;32mtry\u001b[0m\u001b[1;33m:\u001b[0m\u001b[1;33m\u001b[0m\u001b[1;33m\u001b[0m\u001b[0m\n\u001b[0;32m     14\u001b[0m                     \u001b[0mdo_return\u001b[0m \u001b[1;33m=\u001b[0m \u001b[1;32mTrue\u001b[0m\u001b[1;33m\u001b[0m\u001b[1;33m\u001b[0m\u001b[0m\n\u001b[1;32m---> 15\u001b[1;33m                     \u001b[0mretval_\u001b[0m \u001b[1;33m=\u001b[0m \u001b[0mag__\u001b[0m\u001b[1;33m.\u001b[0m\u001b[0mconverted_call\u001b[0m\u001b[1;33m(\u001b[0m\u001b[0mag__\u001b[0m\u001b[1;33m.\u001b[0m\u001b[0mld\u001b[0m\u001b[1;33m(\u001b[0m\u001b[0mstep_function\u001b[0m\u001b[1;33m)\u001b[0m\u001b[1;33m,\u001b[0m \u001b[1;33m(\u001b[0m\u001b[0mag__\u001b[0m\u001b[1;33m.\u001b[0m\u001b[0mld\u001b[0m\u001b[1;33m(\u001b[0m\u001b[0mself\u001b[0m\u001b[1;33m)\u001b[0m\u001b[1;33m,\u001b[0m \u001b[0mag__\u001b[0m\u001b[1;33m.\u001b[0m\u001b[0mld\u001b[0m\u001b[1;33m(\u001b[0m\u001b[0miterator\u001b[0m\u001b[1;33m)\u001b[0m\u001b[1;33m)\u001b[0m\u001b[1;33m,\u001b[0m \u001b[1;32mNone\u001b[0m\u001b[1;33m,\u001b[0m \u001b[0mfscope\u001b[0m\u001b[1;33m)\u001b[0m\u001b[1;33m\u001b[0m\u001b[1;33m\u001b[0m\u001b[0m\n\u001b[0m\u001b[0;32m     16\u001b[0m                 \u001b[1;32mexcept\u001b[0m\u001b[1;33m:\u001b[0m\u001b[1;33m\u001b[0m\u001b[1;33m\u001b[0m\u001b[0m\n\u001b[0;32m     17\u001b[0m                     \u001b[0mdo_return\u001b[0m \u001b[1;33m=\u001b[0m \u001b[1;32mFalse\u001b[0m\u001b[1;33m\u001b[0m\u001b[1;33m\u001b[0m\u001b[0m\n",
      "\u001b[1;31mValueError\u001b[0m: in user code:\n\n    File \"c:\\Users\\maste\\anaconda3\\lib\\site-packages\\keras\\engine\\training.py\", line 1051, in train_function  *\n        return step_function(self, iterator)\n    File \"c:\\Users\\maste\\anaconda3\\lib\\site-packages\\keras\\engine\\training.py\", line 1040, in step_function  **\n        outputs = model.distribute_strategy.run(run_step, args=(data,))\n    File \"c:\\Users\\maste\\anaconda3\\lib\\site-packages\\keras\\engine\\training.py\", line 1030, in run_step  **\n        outputs = model.train_step(data)\n    File \"c:\\Users\\maste\\anaconda3\\lib\\site-packages\\keras\\engine\\training.py\", line 890, in train_step\n        loss = self.compute_loss(x, y, y_pred, sample_weight)\n    File \"c:\\Users\\maste\\anaconda3\\lib\\site-packages\\keras\\engine\\training.py\", line 948, in compute_loss\n        return self.compiled_loss(\n    File \"c:\\Users\\maste\\anaconda3\\lib\\site-packages\\keras\\engine\\compile_utils.py\", line 184, in __call__\n        self.build(y_pred)\n    File \"c:\\Users\\maste\\anaconda3\\lib\\site-packages\\keras\\engine\\compile_utils.py\", line 133, in build\n        self._losses = tf.nest.map_structure(self._get_loss_object, self._losses)\n    File \"c:\\Users\\maste\\anaconda3\\lib\\site-packages\\keras\\engine\\compile_utils.py\", line 272, in _get_loss_object\n        loss = losses_mod.get(loss)\n    File \"c:\\Users\\maste\\anaconda3\\lib\\site-packages\\keras\\losses.py\", line 2372, in get\n        raise ValueError(\n\n    ValueError: Could not interpret loss function identifier: 2.362820863723755\n"
     ]
    }
   ],
   "source": [
    "model_v1.fit(X_train_v2,y_train_v2,batch_size=32)"
   ]
  },
  {
   "cell_type": "markdown",
   "metadata": {},
   "source": [
    "Now I seem to get this error:\n",
    "\n",
    "    ValueError: Could not interpret loss function identifier: 2.3097445964813232\n",
    "\n",
    "I believe this is a problem with my custom loss function"
   ]
  },
  {
   "cell_type": "code",
   "execution_count": null,
   "metadata": {},
   "outputs": [],
   "source": [
    "model_v1.compile(loss = 'SparseCategoricalCrossentropy', optimizer = optimizer, metrics = ['accuracy'])"
   ]
  },
  {
   "cell_type": "code",
   "execution_count": null,
   "metadata": {},
   "outputs": [
    {
     "name": "stdout",
     "output_type": "stream",
     "text": [
      "Epoch 1/5\n",
      "225/225 [==============================] - 2s 6ms/step - loss: 12.8475 - accuracy: 0.1032 - val_loss: 12.2801 - val_accuracy: 0.1175\n",
      "Epoch 2/5\n",
      "225/225 [==============================] - 1s 5ms/step - loss: 13.6690 - accuracy: 0.0985 - val_loss: 14.2625 - val_accuracy: 0.1150\n",
      "Epoch 3/5\n",
      "225/225 [==============================] - 1s 5ms/step - loss: 14.4630 - accuracy: 0.1022 - val_loss: 14.7279 - val_accuracy: 0.0862\n",
      "Epoch 4/5\n",
      "225/225 [==============================] - 1s 5ms/step - loss: 14.4682 - accuracy: 0.1024 - val_loss: 14.7279 - val_accuracy: 0.0862\n",
      "Epoch 5/5\n",
      "225/225 [==============================] - 1s 5ms/step - loss: 14.4682 - accuracy: 0.1024 - val_loss: 14.7279 - val_accuracy: 0.0862\n"
     ]
    },
    {
     "data": {
      "text/plain": [
       "<keras.callbacks.History at 0x221c1a9fbe0>"
      ]
     },
     "execution_count": 37,
     "metadata": {},
     "output_type": "execute_result"
    }
   ],
   "source": [
    "model_v1.fit(X_train_v2,y_train_v2,batch_size=32,epochs = 5, validation_split = 0.1)"
   ]
  },
  {
   "cell_type": "markdown",
   "metadata": {},
   "source": [
    "The loss and accuracy are not changing between epochs, There seems to be a problem"
   ]
  },
  {
   "cell_type": "code",
   "execution_count": null,
   "metadata": {},
   "outputs": [
    {
     "name": "stdout",
     "output_type": "stream",
     "text": [
      "63/63 [==============================] - 0s 3ms/step - loss: 14.5626 - accuracy: 0.0965\n"
     ]
    }
   ],
   "source": [
    "val_loss, val_acc = model_v1.evaluate(X_test_v2, y_test_v2)"
   ]
  },
  {
   "cell_type": "code",
   "execution_count": null,
   "metadata": {},
   "outputs": [
    {
     "name": "stdout",
     "output_type": "stream",
     "text": [
      "63/63 [==============================] - 0s 2ms/step\n"
     ]
    }
   ],
   "source": [
    "predictions = model_v1.predict(X_test_v2)"
   ]
  },
  {
   "cell_type": "code",
   "execution_count": null,
   "metadata": {},
   "outputs": [
    {
     "data": {
      "image/png": "[encoded data removed]",
      "text/plain": [
       "<Figure size 432x288 with 1 Axes>"
      ]
     },
     "metadata": {
      "needs_background": "light"
     },
     "output_type": "display_data"
    },
    {
     "data": {
      "text/plain": [
       "'deer'"
      ]
     },
     "execution_count": 42,
     "metadata": {},
     "output_type": "execute_result"
    }
   ],
   "source": [
    "image = X_test_v2[0]\n",
    "show_image(0, X_test, y_test)\n",
    "keys[np.argmax(predictions[0])].decode(\"utf-8\")\n",
    "\n"
   ]
  },
  {
   "cell_type": "markdown",
   "metadata": {},
   "source": [
    "My model decided to predict this cat as a deer, it has a accuracy of 0.0990 and high high loss. My model guesses correctly 10 percent of the time, which should be expected with 10 outputs if you were to guess at random. My model doesn't work at all, it is completely broken. In hindsight I should not have tried to create my own loss function + optimiser, as I do not understand how it works. I will try again, to create a model using prebuilt loss and optimiser functions. I will focus on developing a accurate and working model."
   ]
  },
  {
   "cell_type": "markdown",
   "metadata": {},
   "source": [
    "## Attempt 2"
   ]
  },
  {
   "cell_type": "markdown",
   "metadata": {},
   "source": [
    "---"
   ]
  },
  {
   "cell_type": "markdown",
   "metadata": {},
   "source": [
    "Since data is already flattened, in the shape (3072,), I will not need to flatten the data. I will creating a model with the provided optimiser and loss functions."
   ]
  },
  {
   "cell_type": "code",
   "execution_count": null,
   "metadata": {},
   "outputs": [],
   "source": [
    "from tensorflow import keras #so I don't have to type tf. everytime"
   ]
  },
  {
   "cell_type": "code",
   "execution_count": null,
   "metadata": {},
   "outputs": [],
   "source": [
    "model = keras.Sequential([\n",
    "    keras.layers.Dense(128, activation = 'relu'), # 128 neurons\n",
    "    keras.layers.Dense(128, activation = 'relu'),\n",
    "    keras.layers.Dense(128, activation = 'relu'),\n",
    "    keras.layers.Dense(10, activation = 'softmax') # Since there are 10 output classifications\n",
    "    ])"
   ]
  },
  {
   "cell_type": "code",
   "execution_count": null,
   "metadata": {},
   "outputs": [
    {
     "name": "stdout",
     "output_type": "stream",
     "text": [
      "Epoch 1/30\n",
      "250/250 [==============================] - 2s 5ms/step - loss: 2.0888 - accuracy: 0.2271\n",
      "Epoch 2/30\n",
      "250/250 [==============================] - 1s 5ms/step - loss: 1.9004 - accuracy: 0.3043\n",
      "Epoch 3/30\n",
      "250/250 [==============================] - 1s 6ms/step - loss: 1.8157 - accuracy: 0.3478\n",
      "Epoch 4/30\n",
      "250/250 [==============================] - 1s 5ms/step - loss: 1.7653 - accuracy: 0.3646\n",
      "Epoch 5/30\n",
      "250/250 [==============================] - 1s 5ms/step - loss: 1.7057 - accuracy: 0.3836\n",
      "Epoch 6/30\n",
      "250/250 [==============================] - 1s 6ms/step - loss: 1.6716 - accuracy: 0.3950\n",
      "Epoch 7/30\n",
      "250/250 [==============================] - 1s 5ms/step - loss: 1.6429 - accuracy: 0.4025\n",
      "Epoch 8/30\n",
      "250/250 [==============================] - 1s 6ms/step - loss: 1.6124 - accuracy: 0.4176\n",
      "Epoch 9/30\n",
      "250/250 [==============================] - 1s 6ms/step - loss: 1.5676 - accuracy: 0.4375\n",
      "Epoch 10/30\n",
      "250/250 [==============================] - 2s 6ms/step - loss: 1.5492 - accuracy: 0.4392\n",
      "Epoch 11/30\n",
      "250/250 [==============================] - 2s 7ms/step - loss: 1.5168 - accuracy: 0.4475\n",
      "Epoch 12/30\n",
      "250/250 [==============================] - 2s 7ms/step - loss: 1.4801 - accuracy: 0.4652\n",
      "Epoch 13/30\n",
      "250/250 [==============================] - 1s 6ms/step - loss: 1.4777 - accuracy: 0.4599\n",
      "Epoch 14/30\n",
      "250/250 [==============================] - 2s 6ms/step - loss: 1.4280 - accuracy: 0.4786\n",
      "Epoch 15/30\n",
      "250/250 [==============================] - 2s 7ms/step - loss: 1.4016 - accuracy: 0.4906\n",
      "Epoch 16/30\n",
      "250/250 [==============================] - 1s 6ms/step - loss: 1.3846 - accuracy: 0.4995\n",
      "Epoch 17/30\n",
      "250/250 [==============================] - 2s 7ms/step - loss: 1.3515 - accuracy: 0.5141\n",
      "Epoch 18/30\n",
      "250/250 [==============================] - 1s 4ms/step - loss: 1.3411 - accuracy: 0.5145\n",
      "Epoch 19/30\n",
      "250/250 [==============================] - 2s 6ms/step - loss: 1.3026 - accuracy: 0.5232\n",
      "Epoch 20/30\n",
      "250/250 [==============================] - 1s 5ms/step - loss: 1.2767 - accuracy: 0.5337\n",
      "Epoch 21/30\n",
      "250/250 [==============================] - 1s 6ms/step - loss: 1.2616 - accuracy: 0.5399\n",
      "Epoch 22/30\n",
      "250/250 [==============================] - 1s 5ms/step - loss: 1.2459 - accuracy: 0.5470\n",
      "Epoch 23/30\n",
      "250/250 [==============================] - 1s 6ms/step - loss: 1.2078 - accuracy: 0.5616\n",
      "Epoch 24/30\n",
      "250/250 [==============================] - 2s 6ms/step - loss: 1.1745 - accuracy: 0.5710\n",
      "Epoch 25/30\n",
      "250/250 [==============================] - 2s 7ms/step - loss: 1.1578 - accuracy: 0.5817\n",
      "Epoch 26/30\n",
      "250/250 [==============================] - 2s 6ms/step - loss: 1.1412 - accuracy: 0.5851\n",
      "Epoch 27/30\n",
      "250/250 [==============================] - 1s 6ms/step - loss: 1.1084 - accuracy: 0.5969\n",
      "Epoch 28/30\n",
      "250/250 [==============================] - 2s 6ms/step - loss: 1.0910 - accuracy: 0.6003\n",
      "Epoch 29/30\n",
      "250/250 [==============================] - 1s 6ms/step - loss: 1.0816 - accuracy: 0.6084\n",
      "Epoch 30/30\n",
      "250/250 [==============================] - 1s 6ms/step - loss: 1.0558 - accuracy: 0.6143\n"
     ]
    },
    {
     "data": {
      "text/plain": [
       "<keras.callbacks.History at 0x2218b132c10>"
      ]
     },
     "execution_count": 90,
     "metadata": {},
     "output_type": "execute_result"
    }
   ],
   "source": [
    "model.compile(optimizer = \"adam\",loss = \"sparse_categorical_crossentropy\", metrics = [\"accuracy\"])\n",
    "model.fit(X_train_v2,y_train_v2, epochs = 30)"
   ]
  },
  {
   "cell_type": "code",
   "execution_count": null,
   "metadata": {},
   "outputs": [
    {
     "name": "stdout",
     "output_type": "stream",
     "text": [
      "63/63 [==============================] - 0s 3ms/step - loss: 1.8911 - accuracy: 0.4070\n"
     ]
    }
   ],
   "source": [
    "test_loss, test_acc = model.evaluate(X_test_v2,y_test_v2)"
   ]
  },
  {
   "cell_type": "markdown",
   "metadata": {},
   "source": [
    "This model with 30 epochs, has a accuracy of 0.7412, however when testing, the accuracy drops to 0.401\n",
    "I think this means overfitting, My model seems to work properly this time, however it is not very reliable. I need to try and optimize it "
   ]
  },
  {
   "cell_type": "markdown",
   "metadata": {},
   "source": [
    "## Attempt 3"
   ]
  },
  {
   "cell_type": "markdown",
   "metadata": {},
   "source": [
    "---"
   ]
  },
  {
   "cell_type": "markdown",
   "metadata": {},
   "source": [
    "In this attempt, I will wrangle the data before feeding it to the model, using a modified show_image function, and include a extra flatten layer in my model"
   ]
  },
  {
   "cell_type": "code",
   "execution_count": 58,
   "metadata": {},
   "outputs": [],
   "source": [
    "X_train_v3 = data[:8000]\n",
    "X_test_v3 = data[8000:10000]\n",
    "\n",
    "y_train_v3 = labels[:8000]\n",
    "y_test_v3 = labels[8000:10000]"
   ]
  },
  {
   "cell_type": "code",
   "execution_count": 59,
   "metadata": {},
   "outputs": [],
   "source": [
    "def convert_dataset(dataset):\n",
    "        \"\"\"\n",
    "        input dataset\n",
    "        converts the vector tensors inside the dataset into a eligible format\n",
    "\n",
    "        returns a dataset with converted images.\n",
    "        \"\"\"\n",
    "        res = [] \n",
    "        for i in range(len(dataset)):\n",
    "                res.append(np.transpose(dataset[i].reshape(3,32,32), axes = [1,2,0]))\n",
    "                \n",
    "        return np.array(res)/255.0 # I had to convert the list into numpy array and divide all the elements by 255.0\n",
    "\n",
    "    \n"
   ]
  },
  {
   "cell_type": "code",
   "execution_count": 60,
   "metadata": {},
   "outputs": [],
   "source": [
    "X_train_v3 = convert_dataset(X_train_v3)\n",
    "X_test_v3 = convert_dataset(X_test_v3)"
   ]
  },
  {
   "cell_type": "code",
   "execution_count": 115,
   "metadata": {},
   "outputs": [
    {
     "data": {
      "image/png": "[encoded data removed]",
      "text/plain": [
       "<Figure size 432x288 with 1 Axes>"
      ]
     },
     "metadata": {
      "needs_background": "light"
     },
     "output_type": "display_data"
    }
   ],
   "source": [
    "plt.imshow(X_train_v3[3])\n",
    "plt.title(keys[y_train_v3[3]].decode(\"utf-8\"))\n",
    "plt.axis('off') \n",
    "plt.show()"
   ]
  },
  {
   "cell_type": "markdown",
   "metadata": {},
   "source": [
    "My images seem to be legible"
   ]
  },
  {
   "cell_type": "markdown",
   "metadata": {},
   "source": [
    "#### Creating the model\n",
    "\n",
    "This model will be similar to the second attempt, with a extra flatten layer"
   ]
  },
  {
   "cell_type": "code",
   "execution_count": 91,
   "metadata": {},
   "outputs": [],
   "source": [
    "import tensorflow as tf\n",
    "from tensorflow import keras\n"
   ]
  },
  {
   "cell_type": "code",
   "execution_count": 93,
   "metadata": {},
   "outputs": [],
   "source": [
    "model = keras.Sequential([\n",
    "    keras.layers.Flatten(),\n",
    "    keras.layers.Dense(128, activation = 'relu'),\n",
    "    keras.layers.Dense(128, activation = 'relu'),\n",
    "    keras.layers.Dense(10, activation = 'softmax') # Since there are 10 output classifications\n",
    "    ])"
   ]
  },
  {
   "cell_type": "code",
   "execution_count": 108,
   "metadata": {},
   "outputs": [],
   "source": [
    "model.compile(optimizer = \"adam\",loss = \"sparse_categorical_crossentropy\", metrics = [\"accuracy\"])"
   ]
  },
  {
   "cell_type": "code",
   "execution_count": 118,
   "metadata": {},
   "outputs": [
    {
     "name": "stdout",
     "output_type": "stream",
     "text": [
      "Epoch 1/30\n",
      "250/250 [==============================] - 1s 6ms/step - loss: 0.7520 - accuracy: 0.7343\n",
      "Epoch 2/30\n",
      "250/250 [==============================] - 1s 6ms/step - loss: 0.7586 - accuracy: 0.7299\n",
      "Epoch 3/30\n",
      "250/250 [==============================] - 1s 6ms/step - loss: 0.7705 - accuracy: 0.7206\n",
      "Epoch 4/30\n",
      "250/250 [==============================] - 1s 6ms/step - loss: 0.7545 - accuracy: 0.7268\n",
      "Epoch 5/30\n",
      "250/250 [==============================] - 1s 6ms/step - loss: 0.7501 - accuracy: 0.7303\n",
      "Epoch 6/30\n",
      "250/250 [==============================] - 1s 6ms/step - loss: 0.7438 - accuracy: 0.7289\n",
      "Epoch 7/30\n",
      "250/250 [==============================] - 1s 5ms/step - loss: 0.7165 - accuracy: 0.7429\n",
      "Epoch 8/30\n",
      "250/250 [==============================] - 1s 5ms/step - loss: 0.7282 - accuracy: 0.7344\n",
      "Epoch 9/30\n",
      "250/250 [==============================] - 2s 6ms/step - loss: 0.7112 - accuracy: 0.7400\n",
      "Epoch 10/30\n",
      "250/250 [==============================] - 1s 6ms/step - loss: 0.6871 - accuracy: 0.7535\n",
      "Epoch 11/30\n",
      "250/250 [==============================] - 1s 6ms/step - loss: 0.7108 - accuracy: 0.7390\n",
      "Epoch 12/30\n",
      "250/250 [==============================] - 1s 5ms/step - loss: 0.6845 - accuracy: 0.7521\n",
      "Epoch 13/30\n",
      "250/250 [==============================] - 1s 5ms/step - loss: 0.6763 - accuracy: 0.7566\n",
      "Epoch 14/30\n",
      "250/250 [==============================] - 1s 5ms/step - loss: 0.6691 - accuracy: 0.7558\n",
      "Epoch 15/30\n",
      "250/250 [==============================] - 1s 5ms/step - loss: 0.6748 - accuracy: 0.7588\n",
      "Epoch 16/30\n",
      "250/250 [==============================] - 1s 5ms/step - loss: 0.6851 - accuracy: 0.7484\n",
      "Epoch 17/30\n",
      "250/250 [==============================] - 1s 5ms/step - loss: 0.6385 - accuracy: 0.7661\n",
      "Epoch 18/30\n",
      "250/250 [==============================] - 1s 5ms/step - loss: 0.6590 - accuracy: 0.7651\n",
      "Epoch 19/30\n",
      "250/250 [==============================] - 1s 6ms/step - loss: 0.6269 - accuracy: 0.7769\n",
      "Epoch 20/30\n",
      "250/250 [==============================] - 2s 6ms/step - loss: 0.6318 - accuracy: 0.7696\n",
      "Epoch 21/30\n",
      "250/250 [==============================] - 1s 5ms/step - loss: 0.6209 - accuracy: 0.7739\n",
      "Epoch 22/30\n",
      "250/250 [==============================] - 1s 5ms/step - loss: 0.6211 - accuracy: 0.7728\n",
      "Epoch 23/30\n",
      "250/250 [==============================] - 1s 5ms/step - loss: 0.6251 - accuracy: 0.7735\n",
      "Epoch 24/30\n",
      "250/250 [==============================] - 1s 5ms/step - loss: 0.6291 - accuracy: 0.7765\n",
      "Epoch 25/30\n",
      "250/250 [==============================] - 1s 5ms/step - loss: 0.5889 - accuracy: 0.7866\n",
      "Epoch 26/30\n",
      "250/250 [==============================] - 1s 5ms/step - loss: 0.5862 - accuracy: 0.7879\n",
      "Epoch 27/30\n",
      "250/250 [==============================] - 1s 5ms/step - loss: 0.5908 - accuracy: 0.7789\n",
      "Epoch 28/30\n",
      "250/250 [==============================] - 1s 5ms/step - loss: 0.5804 - accuracy: 0.7937\n",
      "Epoch 29/30\n",
      "250/250 [==============================] - 1s 6ms/step - loss: 0.5760 - accuracy: 0.7911\n",
      "Epoch 30/30\n",
      "250/250 [==============================] - 2s 6ms/step - loss: 0.5715 - accuracy: 0.7951\n"
     ]
    },
    {
     "data": {
      "text/plain": [
       "<keras.callbacks.History at 0x27b047c2580>"
      ]
     },
     "execution_count": 118,
     "metadata": {},
     "output_type": "execute_result"
    }
   ],
   "source": [
    "model.fit(X_train_v3,y_train_v3,batch_size= 32,epochs = 30)"
   ]
  },
  {
   "cell_type": "code",
   "execution_count": 120,
   "metadata": {},
   "outputs": [
    {
     "name": "stdout",
     "output_type": "stream",
     "text": [
      "63/63 [==============================] - 0s 4ms/step - loss: 2.9196 - accuracy: 0.4070\n"
     ]
    }
   ],
   "source": [
    "test_loss, test_acc = model.evaluate(X_test_v3,y_test_v3)"
   ]
  },
  {
   "cell_type": "markdown",
   "metadata": {},
   "source": [
    "Feeding in (3,32,32) tensors as opposed to (3072,) seems to have no effect on the performance of the model. when evaluating the model. It still has the exact same accuracy of 0.407, and is overfitted with a accuracy of 0.7951"
   ]
  },
  {
   "cell_type": "markdown",
   "metadata": {},
   "source": [
    "## Attempt 4"
   ]
  },
  {
   "cell_type": "markdown",
   "metadata": {},
   "source": []
  }
 ],
 "metadata": {
  "kernelspec": {
   "display_name": "Python 3.8.8 ('base')",
   "language": "python",
   "name": "python3"
  },
  "language_info": {
   "codemirror_mode": {
    "name": "ipython",
    "version": 3
   },
   "file_extension": ".py",
   "mimetype": "text/x-python",
   "name": "python",
   "nbconvert_exporter": "python",
   "pygments_lexer": "ipython3",
   "version": "3.8.8"
  },
  "orig_nbformat": 4,
  "vscode": {
   "interpreter": {
    "hash": "71f4cc5eb07bc0d3ebcedfacc2ab6af50243ce67f8422c9aca860a9f159ae015"
   }
  }
 },
 "nbformat": 4,
 "nbformat_minor": 2
}
